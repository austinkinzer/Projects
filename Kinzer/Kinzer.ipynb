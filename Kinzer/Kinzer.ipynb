{
 "cells": [
  {
   "cell_type": "markdown",
   "metadata": {},
   "source": [
    "# Austin Kinzer - MEGN 570 - PEMFC Modeling Project"
   ]
  },
  {
   "cell_type": "markdown",
   "metadata": {},
   "source": [
    "## Cost vs. Performance of PEMFC"
   ]
  },
  {
   "cell_type": "markdown",
   "metadata": {},
   "source": [
    "Disclaimer: this is largely based off the PEMFC code examples with variable names changed and a few additions. I have no clue what I'm doing in Python (yet!)."
   ]
  },
  {
   "cell_type": "code",
   "execution_count": null,
   "metadata": {},
   "outputs": [],
   "source": [
    "def pemfc_model(i_ext=None):\n",
    "    from scipy.integrate import solve_ivp \n",
    "    from empty_model import residual \n",
    "    from empty_model import pars, SV_0, ptr\n",
    "\n",
    "    # Parse and overwrite any variables passed to the function call:\n",
    "    if i_ext:\n",
    "        pars.i_ext = i_ext\n",
    "\n",
    "    # The use of the 'lambda' function is required here so that we can pass the \n",
    "    #   class variablels 'pars' and 'ptr.'  Otherwise, we can only pass the \n",
    "    #   time span and our initial solution SV_0:\n",
    "    solution = solve_ivp(lambda t, y: residual(t, y, pars, ptr),\n",
    "        pars.time_span, SV_0, rtol=1e-9, atol=1e-7, method='BDF')\n",
    "\n",
    "    # Return the solution results to whatever routine called the function:\n",
    "    return solution\n",
    "\n"
   ]
  }
 ],
 "metadata": {
  "kernelspec": {
   "display_name": "Python 3",
   "language": "python",
   "name": "python3"
  },
  "language_info": {
   "codemirror_mode": {
    "name": "ipython",
    "version": 3
   },
   "file_extension": ".py",
   "mimetype": "text/x-python",
   "name": "python",
   "nbconvert_exporter": "python",
   "pygments_lexer": "ipython3",
   "version": "3.8.3"
  }
 },
 "nbformat": 4,
 "nbformat_minor": 4
}
