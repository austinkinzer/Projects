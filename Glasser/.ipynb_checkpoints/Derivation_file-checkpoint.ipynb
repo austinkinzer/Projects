{
 "cells": [
  {
   "cell_type": "markdown",
   "metadata": {},
   "source": [
    "# Eletrochemical nucelation  and Growth (preliminary development)\n",
    "\n",
    "This is a preliminary model which uses the theory of Electrochemical Nucleation and Growth and attempts to appliy it to battery systems.  For the initial stage of the model, which takes the galvanostatic equations for growth provided in Isaev et al (1), and nucleation was provided by (2). It might someday merge the battery infratructure you provided to examine change in voltage with a constant current.  I will track the variables of radial growth and voltage.  To support this, I will also track avaliable surface area.  This model assume hemispherical growth.  It also assumes diffusion limited current change.\n",
    "\n",
    "## Part 1: Disclaimer\n",
    "\n",
    "Basically I just took equations and threw them in there!  The code runs! I didn't do anything to check if its right!  Who knows! Maybe I'll do that before I turn in the final project, probably. \n",
    "\n",
    "\n",
    "## Part 2:  Electrochemical Nucleation Equations\n",
    "\n",
    "All of the equations here are based on (2). I think the best way to start is to say that the nucleation rate is given as \n",
    "\n",
    "$J =z_n B(g_c)\\Gamma e^{-\\frac{G(g_c)}{kT}}$\n",
    "\n",
    "so let's break down all those terms! $Z_n$ is the Zeldovich factor:\n",
    "\n",
    "$z_n^2 = -\\frac{1}{2\\pi kT} \\left( \\frac{\\partial^2 G}{\\partial g^2} \\right)$\n",
    "\n",
    "Well whats that?  According to the paper $G(g) = - ze\\eta g + b g^(2/3)$ where g is the cluster size.\n",
    "\n",
    "$\\frac{\\partial^2 G}{\\partial g^2} = -\\frac{2}{6} b g^{-\\frac{4}{3}}$\n",
    "\n",
    "All good and well, whats b?\n",
    "\n",
    "$b=(18 \\pi v^2)^(1/3)*\\sigma$\n",
    "\n",
    "Great, we're done with the first term.  time to go with $B(g_c)$.  First we should probably find $g_c$ first tho. That's when $\\frac{\\partial G}{\\partial g} = 0$.\n",
    "\n",
    "$g_c = \\left( \\frac{ze\\eta}{b}\\right)^{-3}$\n",
    "\n",
    "$B(g_c) = \\frac{i_0 s(g_c)}{ze}$\n",
    "\n",
    "We can calculate the area (s) using the critical radius.  That should give us everything we need to calculate J! \n",
    "\n",
    "\n",
    "## Part 3:  Electrochemical Growth Equations\n",
    "\n",
    "The model starts by assuming a certain overpotential, and then examining the change in overpotential the nucleation and growth undergoes. All properties were taken from (3), while the equations were taken from (1)\n",
    "\n",
    "First, the current was calcuated using the assumption that transport was diffusion limited\n",
    "\n",
    "$i =\\frac{zec_0}{r}\\left[1 - e^{-f\\eta} \\right]$\n",
    "\n",
    "Where $f = \\frac{ze}{k_b T}$, in these equations, z is the charge transfer, r is the radius, $\\eta$ is the overpotential, e is the elementary charge, T is the temperature, and $k_b$ is Botzmann's constant.\n",
    "\n",
    "The change in radius was modeled by the equation \n",
    "\n",
    "$\\frac{dr}{dt} = \\frac{i*v}{ze}$\n",
    "\n",
    "Where v, the volume of the molecule was calculated using the molecular weight and density of $Li_2O_2$\n",
    "\n",
    "The voltage drop was calcualted using the equation:\n",
    "\n",
    "$\\frac{d\\eta}{dt} = \\frac{i_0-\\frac{2\\pi r^2 i}{A}}{C_d +zef\\Gamma e^{f\\eta}}$\n",
    "\n",
    "Here, $i_0$ is the exchange current density, A is the area, $C_d$ is the specific capacitence of the double layer and $\\Gamma$ is the adatom concentrations.  For this part of the assignment, I just used the capcitence and adatom concentration given in the paper, but I'll look into it more for the next iteration.\n",
    "\n",
    "(1) V. Isaev, O. V. Grishenkova and Y. Zaykov, \"Theoretical modeling of electrochemical nucleation and growth of a single metal nanocluster on a nanoelectrode,\" RCS Adv., vol. 10, pp. 6976-6984, 2020. \n",
    "\n",
    "(2) V. Isaev and O. Grishenkova, \"Kinetics of electrochemical nucleation and growth,\" Electrochemicsty Communications, vol. 3, pp. 500-504, 2001. \n",
    "\n",
    "(3) J. Li, Z. Su, T. Zhang, Q. Li, M. Yu, X. Zhang and H. Sun, \"Highly Efficient Li-Air Battery Using Ultra-Thin Air Electrode,\" Journal of the Electrochemical Society, vol. 166, no. 5, pp. A3606-A3614, 2019. \n",
    "\n",
    "## Part 4:  Future steps\n",
    "\n",
    "My priorities are as follows:\n",
    "\n",
    "A: Add the averaged portion to account for more sophisticated nucelation and growth.\n",
    "\n",
    "B: Validate the model by comparing it to literature versions.\n",
    "\n",
    "C: Compare this to the conventional nucleation and growth model used for batteries.\n",
    "\n",
    "### Import modules:"
   ]
  },
  {
   "cell_type": "code",
   "execution_count": 1,
   "metadata": {},
   "outputs": [],
   "source": [
    "import numpy as np\n",
    "from math import exp, pi\n",
    "from scipy.integrate import solve_ivp\n",
    "from matplotlib import pyplot as plt"
   ]
  },
  {
   "cell_type": "markdown",
   "metadata": {},
   "source": [
    "### Constants"
   ]
  },
  {
   "cell_type": "code",
   "execution_count": 2,
   "metadata": {},
   "outputs": [],
   "source": [
    "# Constants\n",
    "F = 96485\n",
    "R = 8.3145\n",
    "AN = 6.0221E23 #avogadro's number\n",
    "k_B = 1.38064852E-23 #boltzmann's constant\n",
    "e = F/AN #elementary charge"
   ]
  },
  {
   "cell_type": "markdown",
   "metadata": {},
   "source": [
    "### Inputs"
   ]
  },
  {
   "cell_type": "code",
   "execution_count": 3,
   "metadata": {},
   "outputs": [],
   "source": [
    "C_rate = 0.1 # How many charges per hour?\n",
    "N_0 = 0 #number of initial nucleations.\n",
    "alpha =0.5 #assumed value\n",
    "T = 298 # K\n",
    "D_Li = 3.21  #https://www.cell.com/cms/10.1016/j.joule.2018.11.016/attachment/b036fef4-0b6b-4922-9d3d-30736fd991e6/mmc1\n",
    "OCV = 4 #V\n",
    "i_0 =4E60 #A/m^2\n",
    "rho = 2140 #kg/m3 density Li2O2 #https://iopscience.iop.org/article/10.1149/2.0351915jes/pdf\n",
    "MW =  45.881/1000 #g/mol to kg/mol\n",
    "sigma = 0.54 #J / m² #surface tension of electrolyte/cluster interface.\n",
    "z = 1\n",
    "c_st = 0.10\n",
    "c_0 = 0.09 #saturated Li2O2 according to this paper https://iopscience.iop.org/article/10.1149/2.0351915jes/pdf\n",
    "C_d = 80*(100*100)/1000 #microF/cm2 to microF/m2 to F/m2 https://pubs.rsc.org/en/content/articlelanding/2020/ra/d0ra00608d#!divAbstract\n",
    "gamma_G = 1.2E13*100*100 #cm^2 to m2 adatom concentration, not sure what this is but took literature value ^\n"
   ]
  },
  {
   "cell_type": "markdown",
   "metadata": {},
   "source": [
    "### Calculated"
   ]
  },
  {
   "cell_type": "code",
   "execution_count": 4,
   "metadata": {},
   "outputs": [
    {
     "name": "stdout",
     "output_type": "stream",
     "text": [
      "[4, 3.009316877486553e-08, 2.8450225588961233e-13]\n"
     ]
    }
   ],
   "source": [
    "A_vol = MW/(AN*rho) #m3/molecule\n",
    "r_c = 2*sigma*A_vol/(z*e*OCV) + (A_vol*3/(4*pi))**(1/3) #m\n",
    "A_c = 2*pi*r_c**2\n",
    "b = (18*pi*A_vol**2)**(1/3)*sigma\n",
    "G_c = (z*e*OCV/b)**(-3)\n",
    "\n",
    "Area = 2*pi*r_c**2*50 #test area approximately ten times the nucleation\n",
    "initial = [OCV, r_c, Area, N_0]\n",
    "print(initial)\n",
    "time_of =np.array([0,10])"
   ]
  },
  {
   "cell_type": "markdown",
   "metadata": {},
   "source": [
    "### Running Solution\n"
   ]
  },
  {
   "cell_type": "code",
   "execution_count": 7,
   "metadata": {},
   "outputs": [
    {
     "name": "stdout",
     "output_type": "stream",
     "text": [
      "-1.2008163815370536e-07\n",
      "-1.2008163815370536e-07\n",
      "-1.2008163815370536e-07\n",
      "-1.2008163815370536e-07\n",
      "-1.2008163815370536e-07\n",
      "-1.2008163815370536e-07\n",
      "-1.2008163815370536e-07\n",
      "-1.2008163815370536e-07\n"
     ]
    }
   ],
   "source": [
    "\n",
    "def residual1(t,SV):\n",
    "    #intial calcs\n",
    "    V, r, A, N = SV\n",
    "    n_p = 2*sigma*A_vol/(z*e*r)\n",
    "    f_place = z*e/(k_B*T)\n",
    "    i_dif = z*e*c_0*D_Li/r*(1-exp(-f_place*V))\n",
    "    G_g= -z*e*V*G_c+b*G_c*(2/3)\n",
    "    z_n = (-1/(2*pi*k_B*T))*(-2/6)*G_c**(-4/3)\n",
    "    B_g=i_0*A_vol/(z*e)\n",
    "    #differential\n",
    "    dr_dt =  i_dif*A_vol/(z*e)\n",
    "    dN_dt = z_n*B_g*gamma_G*exp(-G_g/(k_B*T))\n",
    "    dA_dt = -(N*dr_dt*2*pi*r + dN_dt*A_c)\n",
    "    dV_dt = -(i_0 - 2*pi*r**2*i_dif/A)/(C_d +z*e*f_place*gamma_G*exp(f_place*(OCV)))\n",
    "    print(dV_dt)\n",
    "    return [dV_dt, dr_dt, dA_dt, dN_dt]\n",
    "\n",
    "solution1 = solve_ivp(residual1,time_of,initial)\n",
    "\n",
    "voltage_change = solution1.y[0]\n",
    "radius_change = solution1.y[1]\n",
    "Area_change = solution1.y[2]\n",
    "Nucleation_change = solution1.y[3]\n",
    "final_time = solution1.t"
   ]
  },
  {
   "cell_type": "code",
   "execution_count": 8,
   "metadata": {},
   "outputs": [
    {
     "data": {
      "text/plain": [
       "Text(0, 0.5, 'Radius (m)')"
      ]
     },
     "execution_count": 8,
     "metadata": {},
     "output_type": "execute_result"
    },
    {
     "data": {
      "image/png": "[encoded data removed]",
      "text/plain": [
       "<Figure size 432x288 with 1 Axes>"
      ]
     },
     "metadata": {
      "needs_background": "light"
     },
     "output_type": "display_data"
    }
   ],
   "source": [
    "plt.figure(0)\n",
    "plt.plot(final_time,radius_change)\n",
    "plt.xlabel(\"Time (s)\")\n",
    "plt.ylabel(\"Radius (m)\")"
   ]
  },
  {
   "cell_type": "code",
   "execution_count": null,
   "metadata": {},
   "outputs": [],
   "source": []
  },
  {
   "cell_type": "code",
   "execution_count": null,
   "metadata": {},
   "outputs": [],
   "source": []
  }
 ],
 "metadata": {
  "kernelspec": {
   "display_name": "Python 3",
   "language": "python",
   "name": "python3"
  },
  "language_info": {
   "codemirror_mode": {
    "name": "ipython",
    "version": 3
   },
   "file_extension": ".py",
   "mimetype": "text/x-python",
   "name": "python",
   "nbconvert_exporter": "python",
   "pygments_lexer": "ipython3",
   "version": "3.7.3"
  }
 },
 "nbformat": 4,
 "nbformat_minor": 2
}
