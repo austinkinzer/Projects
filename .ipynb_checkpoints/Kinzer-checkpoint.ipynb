{
 "cells": [
  {
   "cell_type": "markdown",
   "metadata": {},
   "source": [
    "# Austin Kinzer - MEGN 570 - Modeling Project"
   ]
  },
  {
   "cell_type": "markdown",
   "metadata": {},
   "source": [
    "## Cost Versus Performance Tradeoffs of Varying Loading of Platinum in Catalyst Layer of Proton Exchange Membrane Fuel Cells"
   ]
  },
  {
   "cell_type": "markdown",
   "metadata": {},
   "source": [
    "### Disclaimer\n",
    "This is largely based off the PEMFC code examples with some variable names changed and a few additions. I have no clue what I'm doing in Python (yet!). "
   ]
  },
  {
   "cell_type": "markdown",
   "metadata": {},
   "source": [
    "### Introduction\n",
    "The goal of this project is to quantify the cost and performance tradeoffs of reducing the fraction of platinum in the catalyst layer for a proton-exchange membrane (PEM) fuel cell. Platinum is the primary electrocatalyst used in PEM fuel cells. The extremely high cost of platinum (~$33,000/kg) is a major component of overall PEM fuel cost, and a barrier to widespread adoption of PEM fuel cells for applications such as transportation and power generation. Additionally, due to the high cost of platinum, catalyst costs do not benefit significantly from economies of scale associated with higher production volumes of fuel cells. This means that reducing the amount of platinum in the catalyst is crucial to reducing system costs for fuel cells to increase cost competitiveness with other technologies. Quantifying the performance tradeoffs of reducing the fraction of platinum would allow one to determine the optimal amount of platinum catalyst that should be used to produce the most cost-effective fuel cell. "
   ]
  },
  {
   "cell_type": "markdown",
   "metadata": {},
   "source": [
    "### Model Formulation\n",
    "For the purposes of this project, a number of simplifications and assumptions are made to allow for a relatively straightforward model which manipulates a single variable -- the fraction of surface area of the carbon in the catalyst layer covered by platinum. Importantly, this is a one-dimensional model of a PEMFC, which considers area and volume solely as necessary to quantify electrochemical processes and volumes of solids within a hypothetical fuel cell. Another assumption is that the diameter of the carbon particles and platinum particles in the catalyst layer are constant. Though it would be worth further investigation to understand the effect of changing the diameter of platinum particles within the catalyst layer, this is beyond the scope of this project. "
   ]
  },
  {
   "cell_type": "markdown",
   "metadata": {},
   "source": [
    "### Results"
   ]
  },
  {
   "cell_type": "markdown",
   "metadata": {},
   "source": [
    "### Discussion"
   ]
  },
  {
   "cell_type": "markdown",
   "metadata": {},
   "source": [
    "### Conclusion"
   ]
  },
  {
   "cell_type": "markdown",
   "metadata": {},
   "source": [
    "### References"
   ]
  },
  {
   "cell_type": "code",
   "execution_count": 8,
   "metadata": {},
   "outputs": [],
   "source": [
    "def pemfc_model(i_ext=None):\n",
    "    from scipy.integrate import solve_ivp \n",
    "    from empty_model import residual \n",
    "    from empty_model import pars, SV_0, ptr\n",
    "    from empty_model import pemfc_gas_flux\n",
    "    from empty_model import pemfc_pt_cost\n",
    "\n",
    "    # Parse and overwrite any variables passed to the function call:\n",
    "    if i_ext:\n",
    "        pars.i_ext = i_ext\n",
    "\n",
    "    # The use of the 'lambda' function is required here so that we can pass the \n",
    "    #   class variablels 'pars' and 'ptr.'  Otherwise, we can only pass the \n",
    "    #   time span and our initial solution SV_0:\n",
    "    solution = solve_ivp(lambda t, y: residual(t, y, pars, ptr),\n",
    "        pars.time_span, SV_0, rtol=1e-9, atol=1e-7, method='BDF')\n",
    "\n",
    "    # Return the solution results to whatever routine called the function:\n",
    "    return solution\n",
    "\n"
   ]
  },
  {
   "cell_type": "code",
   "execution_count": null,
   "metadata": {},
   "outputs": [],
   "source": []
  }
 ],
 "metadata": {
  "kernelspec": {
   "display_name": "Python 3",
   "language": "python",
   "name": "python3"
  },
  "language_info": {
   "codemirror_mode": {
    "name": "ipython",
    "version": 3
   },
   "file_extension": ".py",
   "mimetype": "text/x-python",
   "name": "python",
   "nbconvert_exporter": "python",
   "pygments_lexer": "ipython3",
   "version": "3.8.3"
  }
 },
 "nbformat": 4,
 "nbformat_minor": 4
}
