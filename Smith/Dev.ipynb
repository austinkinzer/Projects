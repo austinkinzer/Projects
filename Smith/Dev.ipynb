{
 "cells": [
  {
   "cell_type": "code",
   "execution_count": 1,
   "metadata": {},
   "outputs": [],
   "source": [
    "import numpy as np\n",
    "import matplotlib.pyplot as plt"
   ]
  },
  {
   "cell_type": "code",
   "execution_count": 77,
   "metadata": {},
   "outputs": [
    {
     "name": "stdout",
     "output_type": "stream",
     "text": [
      "100\n"
     ]
    }
   ],
   "source": [
    "#====Physical Parameters====\n",
    "#Temperature (K)\n",
    "T = 25+273\n",
    "    \n",
    "#====Cathode Materials Physical Parameters====\n",
    "#Molar Volume (m3/mol) [S8, Li2S8, Li2S4, Li2S2, Li2S]\n",
    "V_i = np.array([1.239e-4, 1.361e-4, 7.415e-5, 4.317e-5, 2.768e-5])\n",
    "    \n",
    "#Material Density (kg/m3)\n",
    "rho_carbon_true = 2000 \n",
    "rho_carbon_bulk = 120 #Typical of high porosity Ketjen black\n",
    "    \n",
    "    #Porosity of carbon support\n",
    "eps_void_carbon = 1 - rho_carbon_bulk/rho_carbon_true\n",
    "#eps_carbon = 1 - eps_void_carbon\n",
    "    \n",
    "    #====Electrolyte Physical Parameters====\n",
    "    #Species charge [Li^+, S8, S8^2-, S6^2-, S4^2-, S2^2-, S^2-, A^-]\n",
    "z_i = np.array([0, -2, -2, -2, -2, -2, -1])\n",
    "    \n",
    "    #Species Diffusivity (m2/s) [Li^+, S8, S8^2-, S6^2-, S4^2-, S2^2-, S^2-, A^-]\n",
    "D_i = np.array([1e-10, 1e-9, 6e-10, 6e-10, 1e-10, 1e-10, 1e-10, 4e-10])\n",
    "    \n",
    "    #====Initial Cathode Dry Composition====\n",
    "w_S = 0.4 #Mass Fraction Sulfur \n",
    "mg_S_cm2 = 1 #Areal Mass Loading Sulfur (mg/cm2)\n",
    "m_S = mg_S_cm2/10**6*100**2 #Areal sulfur mass loading (kg/m2)\n",
    "    #Mass Fraction [S8, C]\n",
    "w_i = np.array([w_S, 1 - w_S])\n",
    "    #Molar mass (kg/mol)\n",
    "M_i = np.array([0.25648, 0.012011])\n",
    "    #Moles at 1kg basis (mol)\n",
    "n_i_dry = w_i/M_i\n",
    "    #Molar volumes (m3/mol) \n",
    "V_S_n = 1.239e-4\n",
    "V_C_n_bulk = M_i[1]/rho_carbon_bulk\n",
    "V_C_n_true = M_i[1]/rho_carbon_true\n",
    "    #Volumes at 1 kg basis (m3)\n",
    "V_S = V_S_n*n_i_dry[0]\n",
    "V_C_bulk = V_C_n_bulk*n_i_dry[1]\n",
    "V_C_true = V_C_n_true*n_i_dry[1]\n",
    "V_void_C = V_C_bulk*eps_void_carbon\n",
    "V_void_cat = V_void_C - V_S\n",
    "    #Initial Volume Fraction of Sulfur\n",
    "eps_S_init = V_S/V_C_bulk #Approximate. Valid until ~95% Sulfur loading.\n",
    "eps_carbon = V_C_true/V_C_bulk\n",
    "    \n",
    "    #====Reaction Parameters====\n",
    "    #Butler-Volmer Parameters\n",
    "i_o_i = np.array([0.394, 1.972, 0.019, 0.019, 1.97e-4, 1.97e-4])\n",
    "alpha = 0.5\n",
    "n_elec = 1\n",
    "U_half = np.array([0.0, 2.39, 2.37, 2.24, 2.04, 2.01])\n",
    "    \n",
    "    #Precipitation Parameters [S8, Li2S8, Li2S4, Li2S2, Li2S]\n",
    "k_precip = np.array([1, 1e-4, 9.98e-5, 9.98e-5, 27.5])\n",
    "K_sol = np.array([19, 38.09, 11.26, 5.1e-3, 3.0e-5])\n",
    "C_i_k_ref = np.array([1/V_S_n, 1e-20, 1e-20, 1e-20, 1e-20])\n",
    "    \n",
    "    #====Initial Conditions====\n",
    "    #Reference (Initial) Concentrations (mol/m3) [Li^+, S8, S8^2-, S6^2-, S4^2-, S2^2-, S^2-, A^-]\n",
    "C_i_l_ref = np.array([1001.0440010474534, 19.0, 0.178, 0.324, 0.020, 5.229e-7, 8.267e-10, 1000.0])\n",
    "    \n",
    "    #Initial Liquid Porosity\n",
    "eps_elyte_sep_init = 0.39 #separator\n",
    "eps_elyte_cat_init = V_void_cat/V_C_bulk #cathode (Assuming negligible sulfur contribution to cathode volume)\n",
    "    \n",
    "    #Bruggeman Correlation\n",
    "b_sep = -0.5\n",
    "b_cat = -0.5\n",
    "b_carbon = -0.5\n",
    "tau_elyte_sep_init = eps_elyte_sep_init**b_sep\n",
    "tau_elyte_cat_init = eps_elyte_cat_init**b_cat\n",
    "tau_carbon = eps_carbon**b_carbon\n",
    "    \n",
    "    #Initial Volume Fractions [S8, Li2S8, Li2S4, Li2S2, Li2S]\n",
    "eps_i_cat_init = np.array([eps_S_init, 1e-6, 1e-6, 1e-6, 1e-7])\n",
    "eps_i_sep_init = np.array([1e-12, 1e-6, 1e-6, 1e-6, 1e-7])\n",
    "    \n",
    "    #Initial Cathode Surface Area (m2/m3)\n",
    "a_init = 1270.*rho_carbon_bulk*(eps_elyte_cat_init/eps_void_carbon)**1.5\n",
    "xi = 1.5\n",
    "\n",
    "#Cathode Electronic Conductivity\n",
    "sigma_C_pure = 1.28e5 #S/m\n",
    "sigma_C_eff = eps_carbon/tau_carbon*sigma_C_pure\n",
    "\n",
    "#Cathode Thickness (m)\n",
    "l_cat = V_S_n/M_i[0]*m_S/eps_S_init\n",
    "\n",
    "#Separator Thickness (m)\n",
    "l_sep = 25e-6\n",
    "\n",
    "#Cell Thickness (m)\n",
    "l_cell = l_cat + l_sep\n",
    "\n",
    "#x-discretization\n",
    "nodes = 100\n",
    "x = np.linspace(0, l_cell, nodes+1)\n",
    "dx = l_cell/nodes\n",
    "\n",
    "sep_cat_node = int(round(l_sep/dx))\n",
    "\n",
    "#Cutoff Voltage (V)\n",
    "V_cutoff = 1.5\n",
    "\n",
    "#Applied Current Density\n",
    "Q_theo = 1675 #Ah/kg_S\n",
    "C_rate_1 = Q_theo #A/kg_S\n",
    "C_rate = 0.1 #Applied C-rate\n",
    "applied_current = C_rate*C_rate_1*m_S #A/m2\n",
    "\n",
    "print(nodes)"
   ]
  },
  {
   "cell_type": "code",
   "execution_count": 3,
   "metadata": {},
   "outputs": [],
   "source": [
    "#Initialize ionic species concentration array\n",
    "C_i = np.zeros((8, len(x)))\n",
    "\n",
    "#Populate initial conditions\n",
    "for i in range(8):\n",
    "    C_i[i] = C_i_l_ref[i]\n",
    "    "
   ]
  },
  {
   "cell_type": "code",
   "execution_count": 4,
   "metadata": {},
   "outputs": [],
   "source": [
    "#Initialize electrolyte porosity array\n",
    "eps_elyte = np.zeros(len(x))\n",
    "\n",
    "#Populate initial conditions\n",
    "for i in range(nodes+1):\n",
    "    if x[i] < l_sep:\n",
    "        eps_elyte[i] = eps_elyte_sep_init\n",
    "    else:\n",
    "        eps_elyte[i] = eps_elyte_cat_init\n",
    "     "
   ]
  },
  {
   "cell_type": "code",
   "execution_count": 5,
   "metadata": {},
   "outputs": [],
   "source": [
    "#Initialize solid volume fraction array\n",
    "eps_k = np.zeros((5, len(x)))\n",
    "\n",
    "#Populate initial conditions\n",
    "for i in range(5):\n",
    "    for j in range(nodes+1):\n",
    "        if x[j] < l_sep:\n",
    "            eps_k[i,j] = eps_i_sep_init[i]\n",
    "        else:\n",
    "            eps_k[i,j] = eps_i_cat_init[i]\n",
    "            "
   ]
  },
  {
   "cell_type": "code",
   "execution_count": 34,
   "metadata": {},
   "outputs": [
    {
     "name": "stdout",
     "output_type": "stream",
     "text": [
      "[[0.    0.    0.    0.    0.    0.    0.    0.    0.    0.    0.    0.\n",
      "  0.    0.    0.    0.    0.    0.    0.    0.    0.    0.    0.    0.\n",
      "  0.    0.    0.    0.    0.    0.    0.    0.    0.    0.    0.    0.\n",
      "  0.    0.    0.    0.    0.    0.    0.    0.    0.    0.    0.    0.\n",
      "  0.    0.    0.    0.    0.    0.    0.    0.    0.    0.    0.    0.\n",
      "  0.    0.    0.    0.    0.    0.    0.    0.    0.    0.    0.    0.\n",
      "  0.    0.    0.    0.    0.    0.    0.    0.    0.    0.    0.    0.\n",
      "  0.    0.    0.    0.    0.    0.    0.    0.    0.    0.    0.    0.\n",
      "  0.    0.    0.    0.    1.675]\n",
      " [1.675 1.675 1.675 1.675 1.675 1.675 1.675 1.675 1.675 1.675 1.675 1.675\n",
      "  1.675 1.675 1.675 1.675 1.675 1.675 1.675 1.675 1.675 1.675 1.675 1.675\n",
      "  1.675 1.675 1.675 1.675 1.675 1.675 1.675 1.675 1.675 1.675 1.675 1.675\n",
      "  1.675 1.675 1.675 1.675 1.675 1.675 1.675 1.675 1.675 1.675 1.675 1.675\n",
      "  1.675 1.675 1.675 1.675 1.675 1.675 1.675 1.675 1.675 1.675 1.675 1.675\n",
      "  1.675 1.675 1.675 1.675 1.675 1.675 1.675 1.675 1.675 1.675 1.675 1.675\n",
      "  1.675 1.675 1.675 1.675 1.675 1.675 1.675 1.675 1.675 1.675 1.675 1.675\n",
      "  1.675 1.675 1.675 1.675 1.675 1.675 1.675 1.675 1.675 1.675 1.675 1.675\n",
      "  1.675 1.675 1.675 1.675 0.   ]]\n"
     ]
    }
   ],
   "source": [
    "#Initialize current array with initial guesses and boundary conditions\n",
    "##Row 0 -> solid phase\n",
    "##Row 1 -> electrolyte phase\n",
    "current = applied_current*np.ones((2, len(x)))\n",
    "current[0, :-1] = current[1,-1:] = 0\n"
   ]
  },
  {
   "cell_type": "code",
   "execution_count": 133,
   "metadata": {},
   "outputs": [
    {
     "name": "stdout",
     "output_type": "stream",
     "text": [
      "[[0. 1. 1. 1. 1. 1. 1. 1. 1. 1. 1. 1. 1. 1. 1. 1. 1. 1. 1. 1. 1. 1. 1. 1.\n",
      "  1. 1. 1. 1. 1. 1. 1. 1. 1. 1. 1. 1. 1. 1. 1. 1. 1. 1. 1. 1. 1. 1. 1. 1.\n",
      "  1. 1. 1. 1. 1. 1. 1. 1. 1. 1. 1. 1. 1. 1. 1. 1. 1. 1. 1. 1. 1. 1. 1. 1.\n",
      "  1. 1. 1. 1. 1. 1. 1. 1. 1. 1. 1. 1. 1. 1. 1. 1. 1. 1. 1. 1. 1. 1. 1. 1.\n",
      "  1. 1. 1. 1. 1.]\n",
      " [0. 1. 1. 1. 1. 1. 1. 1. 1. 1. 1. 1. 1. 1. 1. 1. 1. 1. 1. 1. 1. 1. 1. 1.\n",
      "  1. 1. 1. 1. 1. 1. 1. 1. 1. 1. 1. 1. 1. 1. 1. 1. 1. 1. 1. 1. 1. 1. 1. 1.\n",
      "  1. 1. 1. 1. 1. 1. 1. 1. 1. 1. 1. 1. 1. 1. 1. 1. 1. 1. 1. 1. 1. 1. 1. 1.\n",
      "  1. 1. 1. 1. 1. 1. 1. 1. 1. 1. 1. 1. 1. 1. 1. 1. 1. 1. 1. 1. 1. 1. 1. 1.\n",
      "  1. 1. 1. 1. 1.]]\n"
     ]
    }
   ],
   "source": [
    "#Initialize potential array with initial guesses\n",
    "##Row 0 -> solid phase\n",
    "##Row 1 -> electrolyte phase\n",
    "phi = np.ones((2, len(x)))\n",
    "phi[:,0] = 0\n",
    "\n",
    "print(phi)"
   ]
  },
  {
   "cell_type": "code",
   "execution_count": 9,
   "metadata": {},
   "outputs": [],
   "source": [
    "#Initialize surface area array with initial values (m2/m3)\n",
    "a = np.ones(len(x))\n",
    "\n",
    "for i in range(nodes+1):\n",
    "    if x[i] > l_sep:\n",
    "        a[i] = a_init\n",
    "   "
   ]
  },
  {
   "cell_type": "code",
   "execution_count": 123,
   "metadata": {},
   "outputs": [
    {
     "name": "stdout",
     "output_type": "stream",
     "text": [
      "[-0.05 -0.05 -0.05 -0.05 -0.05 -0.05]\n"
     ]
    }
   ],
   "source": [
    "#Initialize faradaic current array (A/m2)\n",
    "\n",
    "i_i = -0.05*np.ones(len(i_o_i))\n",
    "\n",
    "print(i_i)"
   ]
  },
  {
   "cell_type": "code",
   "execution_count": 147,
   "metadata": {},
   "outputs": [
    {
     "data": {
      "text/plain": [
       "[<matplotlib.lines.Line2D at 0x22a94c3ccc0>]"
      ]
     },
     "execution_count": 147,
     "metadata": {},
     "output_type": "execute_result"
    },
    {
     "data": {
      "image/png": "[encoded data removed]",
      "text/plain": [
       "<Figure size 432x288 with 1 Axes>"
      ]
     },
     "metadata": {
      "needs_background": "light"
     },
     "output_type": "display_data"
    }
   ],
   "source": [
    "for k in range(1): #Iterate to converge on solution\n",
    "    for i in range(2): #Loop through liquid and solid phase\n",
    "        ####Separator Block\n",
    "        for j in range(sep_cat_node+1): #Loop through separator location x\n",
    "            \n",
    "        \n",
    "        \n",
    "        ####Cathode Block\n",
    "        for j in range(sep_cat_node+2, nodes+1): #Loop through cathode location x\n",
    "            \n",
    "            ##Current block\n",
    "            #a[j] = a_init #Calculate the cathode surface area\n",
    "            i_sum = 0 #Set faradaic current sum counter\n",
    "            for k in range(4): #Loop through 5 cathodic faradaic reactions\n",
    "                #i_i[k+1] = i_i[k+1] #Calculate faradaic current\n",
    "                i_sum = i_sum + i_i[k+1] #Add to the current sum counter\n",
    "            di_e_dx = a*i_sum #Electrolyte current derivative\n",
    "            di_s_dx = -di_e_dx #Solid current derivative\n",
    "            if i == 0: #Finite Difference Calculation\n",
    "                current[i,j] = current[i,j-1] + di_s_dx[j]*dx\n",
    "            else:\n",
    "                current[i,j] = current[i,j-1] + di_e_dx[j]*dx\n",
    "            \n",
    "            ##Potential Block\n",
    "            dphi_s_dx = -current[0]/sigma_C_eff #Solid potential derivative\n",
    "            dphi_s_dx[-1] = applied_current/sigma_C_eff #Boundary Condition\n",
    "            dphi_e_dx = (current[1] - 1)/-1 ##Electrolyte potential derivativeReplace ones with sumA and sumB\n",
    "            dphi_e_dx[-1] = 0 #Boundary Condition\n",
    "            if i == 0: #Finite Difference Calculation\n",
    "                phi[i,j] = phi[i,j-1] + dphi_s_dx[j]*dx\n",
    "            else:\n",
    "                phi[i,j] = phi[i,j-1] + dphi_e_dx[j]*dx\n",
    "#print(phi)  \n",
    "#plt.plot(x,current[0])\n",
    "#plt.plot(x,current[1])\n",
    "#plt.plot(x,dphi_e_dx)\n",
    "#plt.plot(x,dphi_s_dx)\n",
    "#plt.plot(x,phi[0])\n",
    "#plt.plot(x,phi[1])\n",
    "#print(current)"
   ]
  },
  {
   "cell_type": "code",
   "execution_count": null,
   "metadata": {},
   "outputs": [],
   "source": []
  }
 ],
 "metadata": {
  "kernelspec": {
   "display_name": "Python 3",
   "language": "python",
   "name": "python3"
  },
  "language_info": {
   "codemirror_mode": {
    "name": "ipython",
    "version": 3
   },
   "file_extension": ".py",
   "mimetype": "text/x-python",
   "name": "python",
   "nbconvert_exporter": "python",
   "pygments_lexer": "ipython3",
   "version": "3.7.3"
  }
 },
 "nbformat": 4,
 "nbformat_minor": 2
}
